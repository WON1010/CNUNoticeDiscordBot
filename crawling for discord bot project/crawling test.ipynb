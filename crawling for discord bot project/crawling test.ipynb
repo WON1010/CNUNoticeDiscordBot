{
 "cells": [
  {
   "cell_type": "code",
   "id": "initial_id",
   "metadata": {
    "collapsed": true,
    "ExecuteTime": {
     "end_time": "2024-07-30T17:19:57.426703Z",
     "start_time": "2024-07-30T17:19:57.412089Z"
    }
   },
   "source": [
    "import requests\n",
    "from bs4 import BeautifulSoup\n",
    "from info import urls"
   ],
   "outputs": [
    {
     "ename": "ImportError",
     "evalue": "cannot import name 'urls' from 'info' (C:\\Users\\home\\Documents\\GitHub\\CNUNoticeDiscordBot\\crawling for discord bot project\\info.py)",
     "output_type": "error",
     "traceback": [
      "\u001B[1;31m---------------------------------------------------------------------------\u001B[0m",
      "\u001B[1;31mImportError\u001B[0m                               Traceback (most recent call last)",
      "Cell \u001B[1;32mIn[14], line 3\u001B[0m\n\u001B[0;32m      1\u001B[0m \u001B[38;5;28;01mimport\u001B[39;00m \u001B[38;5;21;01mrequests\u001B[39;00m\n\u001B[0;32m      2\u001B[0m \u001B[38;5;28;01mfrom\u001B[39;00m \u001B[38;5;21;01mbs4\u001B[39;00m \u001B[38;5;28;01mimport\u001B[39;00m BeautifulSoup\n\u001B[1;32m----> 3\u001B[0m \u001B[38;5;28;01mfrom\u001B[39;00m \u001B[38;5;21;01minfo\u001B[39;00m \u001B[38;5;28;01mimport\u001B[39;00m urls\n",
      "\u001B[1;31mImportError\u001B[0m: cannot import name 'urls' from 'info' (C:\\Users\\home\\Documents\\GitHub\\CNUNoticeDiscordBot\\crawling for discord bot project\\info.py)"
     ]
    }
   ],
   "execution_count": 14
  },
  {
   "metadata": {
    "ExecuteTime": {
     "end_time": "2024-07-30T17:19:43.231089Z",
     "start_time": "2024-07-30T17:19:43.225748Z"
    }
   },
   "cell_type": "code",
   "source": [
    "def get_html(url):\n",
    "    response = requests.get(url)\n",
    "    if response.status_code == 200:\n",
    "        return response.text\n",
    "    else:\n",
    "        return None"
   ],
   "id": "caf97ed3ee9f2bc2",
   "outputs": [],
   "execution_count": 12
  },
  {
   "metadata": {
    "ExecuteTime": {
     "end_time": "2024-07-30T17:19:14.825375Z",
     "start_time": "2024-07-30T17:19:14.808079Z"
    }
   },
   "cell_type": "code",
   "source": "get_html(urls[\"board_url\"])",
   "id": "f301602325067ac1",
   "outputs": [
    {
     "ename": "NameError",
     "evalue": "name 'urls' is not defined",
     "output_type": "error",
     "traceback": [
      "\u001B[1;31m---------------------------------------------------------------------------\u001B[0m",
      "\u001B[1;31mNameError\u001B[0m                                 Traceback (most recent call last)",
      "Cell \u001B[1;32mIn[8], line 1\u001B[0m\n\u001B[1;32m----> 1\u001B[0m get_html(\u001B[43murls\u001B[49m[\u001B[38;5;124m\"\u001B[39m\u001B[38;5;124mboard_url\u001B[39m\u001B[38;5;124m\"\u001B[39m])\n",
      "\u001B[1;31mNameError\u001B[0m: name 'urls' is not defined"
     ]
    }
   ],
   "execution_count": 8
  },
  {
   "metadata": {
    "ExecuteTime": {
     "end_time": "2024-07-30T17:19:15.331137Z",
     "start_time": "2024-07-30T17:19:15.314856Z"
    }
   },
   "cell_type": "code",
   "source": [
    "soup = BeautifulSoup(get_html(urls[\"board_url\"]), 'html.parser')  \n",
    "notices = []\n",
    "rows = soup.find_all(\"tr\")\n",
    "rows"
   ],
   "id": "9ee7dc468ebaa322",
   "outputs": [
    {
     "ename": "NameError",
     "evalue": "name 'urls' is not defined",
     "output_type": "error",
     "traceback": [
      "\u001B[1;31m---------------------------------------------------------------------------\u001B[0m",
      "\u001B[1;31mNameError\u001B[0m                                 Traceback (most recent call last)",
      "Cell \u001B[1;32mIn[9], line 1\u001B[0m\n\u001B[1;32m----> 1\u001B[0m soup \u001B[38;5;241m=\u001B[39m BeautifulSoup(get_html(\u001B[43murls\u001B[49m[\u001B[38;5;124m\"\u001B[39m\u001B[38;5;124mboard_url\u001B[39m\u001B[38;5;124m\"\u001B[39m]), \u001B[38;5;124m'\u001B[39m\u001B[38;5;124mhtml.parser\u001B[39m\u001B[38;5;124m'\u001B[39m)  \n\u001B[0;32m      2\u001B[0m notices \u001B[38;5;241m=\u001B[39m []\n\u001B[0;32m      3\u001B[0m rows \u001B[38;5;241m=\u001B[39m soup\u001B[38;5;241m.\u001B[39mfind_all(\u001B[38;5;124m\"\u001B[39m\u001B[38;5;124mtr\u001B[39m\u001B[38;5;124m\"\u001B[39m)\n",
      "\u001B[1;31mNameError\u001B[0m: name 'urls' is not defined"
     ]
    }
   ],
   "execution_count": 9
  },
  {
   "metadata": {
    "ExecuteTime": {
     "end_time": "2024-07-30T17:07:30.644363Z",
     "start_time": "2024-07-30T17:07:30.626482Z"
    }
   },
   "cell_type": "code",
   "source": [
    "for row in rows:\n",
    "    number = row.find('td', class_ = \"b-num-box\")\n",
    "    title_box =row.find('div', class_ = \"b-title-box\")\n",
    "    date = row.find('span', class_ = \"b-date\")\n",
    "    writer = row.find('span', class_ = \"b-writer\")\n",
    "    views = row.find('span', class_ = \"hit\")\n",
    "    notice_data = {'번호': number.get_text(strip=True) if number else '',\n",
    "                   '제목': title_box.a.get_text(strip=True) if title_box and title_box.a else '',\n",
    "                   \"작성자\" : writer.get_text(strip=True) if writer else '', \n",
    "                   '날짜': date.get_text(strip=True) if writer else '',\n",
    "                   \"조회수\": views.get_text(strip=True) if views else '',\n",
    "                   \"본문링크\": urls[\"board_url\"] + title_box.a['href'] if title_box and title_box.a else ''}\n",
    "    notices.append(notice_data)\n",
    "notices"
   ],
   "id": "902a9294b92aa20e",
   "outputs": [
    {
     "data": {
      "text/plain": [
       "[{'번호': '', '제목': '', '작성자': '', '날짜': '', '조회수': '', '본문링크': ''},\n",
       " {'번호': '공지',\n",
       "  '제목': '[★★★ 1학년 교과목 수강신청 안내 (본인이 직접 수강신청) ★★★]',\n",
       "  '작성자': '조교 이희정',\n",
       "  '날짜': '24.07.23',\n",
       "  '조회수': '조회수 154',\n",
       "  '본문링크': 'https://ai.cnu.ac.kr/ai/board/notice.do??mode=view&articleNo=519785&article.offset=0&articleLimit=10'},\n",
       " {'번호': '공지',\n",
       "  '제목': '2024 학생휴가 신청시 주의사항 안내',\n",
       "  '작성자': '조교 김현수',\n",
       "  '날짜': '24.06.11',\n",
       "  '조회수': '조회수 188',\n",
       "  '본문링크': 'https://ai.cnu.ac.kr/ai/board/notice.do??mode=view&articleNo=515554&article.offset=0&articleLimit=10'},\n",
       " {'번호': '공지',\n",
       "  '제목': '학과 GPU 서버 사용 신청 안내',\n",
       "  '작성자': '서무 담당 조교',\n",
       "  '날짜': '24.03.13',\n",
       "  '조회수': '조회수 483',\n",
       "  '본문링크': 'https://ai.cnu.ac.kr/ai/board/notice.do??mode=view&articleNo=508553&article.offset=0&articleLimit=10'},\n",
       " {'번호': '공지',\n",
       "  '제목': '★★ 인공지능개론 대체교과목 및 컴퓨터과학적사고 이수면제 안내',\n",
       "  '작성자': '조교 이희정',\n",
       "  '날짜': '24.01.19',\n",
       "  '조회수': '조회수 587',\n",
       "  '본문링크': 'https://ai.cnu.ac.kr/ai/board/notice.do??mode=view&articleNo=503557&article.offset=0&articleLimit=10'},\n",
       " {'번호': '공지',\n",
       "  '제목': '[중요] 컴퓨터프로그래밍1~3, 컴퓨터구조 교과목 학과별 운영으로 개설학과 이외 수강생 전공 불인정 안내',\n",
       "  '작성자': '조교 이희정',\n",
       "  '날짜': '23.01.30',\n",
       "  '조회수': '조회수 1136',\n",
       "  '본문링크': 'https://ai.cnu.ac.kr/ai/board/notice.do??mode=view&articleNo=319395&article.offset=0&articleLimit=10'},\n",
       " {'번호': '공지',\n",
       "  '제목': '충남대학교 백마인턴십 수강학생 전공학점 인정 등 안내',\n",
       "  '작성자': '조교 김현수',\n",
       "  '날짜': '23.01.03',\n",
       "  '조회수': '조회수 1319',\n",
       "  '본문링크': 'https://ai.cnu.ac.kr/ai/board/notice.do??mode=view&articleNo=317481&article.offset=0&articleLimit=10'},\n",
       " {'번호': '공지',\n",
       "  '제목': '[★★★ 졸업요건]  프로젝트교과목 필수 이수 안내',\n",
       "  '작성자': '조교 이희정',\n",
       "  '날짜': '22.01.27',\n",
       "  '조회수': '조회수 1587',\n",
       "  '본문링크': 'https://ai.cnu.ac.kr/ai/board/notice.do??mode=view&articleNo=287509&article.offset=0&articleLimit=10'},\n",
       " {'번호': '공지',\n",
       "  '제목': '2022학년도 교양영어 교육과정 개편 안내(2021학년도 이전 입학자 포함)',\n",
       "  '작성자': '조교 이희정',\n",
       "  '날짜': '21.12.30',\n",
       "  '조회수': '조회수 1130',\n",
       "  '본문링크': 'https://ai.cnu.ac.kr/ai/board/notice.do??mode=view&articleNo=285136&article.offset=0&articleLimit=10'},\n",
       " {'번호': '221',\n",
       "  '제목': '2024학년도 1학기 교내 장학생 추가 2차 선발 (문자 수신자 확인용)',\n",
       "  '작성자': '조교 김현수',\n",
       "  '날짜': '24.07.29',\n",
       "  '조회수': '조회수 96',\n",
       "  '본문링크': 'https://ai.cnu.ac.kr/ai/board/notice.do??mode=view&articleNo=520413&article.offset=0&articleLimit=10'},\n",
       " {'번호': '220',\n",
       "  '제목': '[3학년] 실무프로젝트랩3 교과목 수강 제한 안내',\n",
       "  '작성자': '조교 이희정',\n",
       "  '날짜': '24.07.29',\n",
       "  '조회수': '조회수 35',\n",
       "  '본문링크': 'https://ai.cnu.ac.kr/ai/board/notice.do??mode=view&articleNo=520389&article.offset=0&articleLimit=10'},\n",
       " {'번호': '219',\n",
       "  '제목': '2024학년도 제2학기 SW교양교과목 수강 안내',\n",
       "  '작성자': '조교 이희정',\n",
       "  '날짜': '24.07.25',\n",
       "  '조회수': '조회수 71',\n",
       "  '본문링크': 'https://ai.cnu.ac.kr/ai/board/notice.do??mode=view&articleNo=520125&article.offset=0&articleLimit=10'},\n",
       " {'번호': '218',\n",
       "  '제목': '2024학년도 제2학기 예비수강신청 계획 안내',\n",
       "  '작성자': '조교 이희정',\n",
       "  '날짜': '24.07.24',\n",
       "  '조회수': '조회수 85',\n",
       "  '본문링크': 'https://ai.cnu.ac.kr/ai/board/notice.do??mode=view&articleNo=519935&article.offset=0&articleLimit=10'},\n",
       " {'번호': '217',\n",
       "  '제목': '2024학년도 2학기 첨단분야 혁신융합대학사업(강원대주관, 인공지능학과 참여) 교류수학 안내',\n",
       "  '작성자': '조교 이희정',\n",
       "  '날짜': '24.07.23',\n",
       "  '조회수': '조회수 50',\n",
       "  '본문링크': 'https://ai.cnu.ac.kr/ai/board/notice.do??mode=view&articleNo=519846&article.offset=0&articleLimit=10'},\n",
       " {'번호': '216',\n",
       "  '제목': '[수강신청관련] 컴퓨터융합학부 개설 교과목 수강신청 유의사항 안내',\n",
       "  '작성자': '조교 이희정',\n",
       "  '날짜': '24.07.23',\n",
       "  '조회수': '조회수 58',\n",
       "  '본문링크': 'https://ai.cnu.ac.kr/ai/board/notice.do??mode=view&articleNo=519799&article.offset=0&articleLimit=10'},\n",
       " {'번호': '215',\n",
       "  '제목': '인공지능학과, 컴퓨터융합학부 합반 운영 교과목 안내',\n",
       "  '작성자': '조교 이희정',\n",
       "  '날짜': '24.07.23',\n",
       "  '조회수': '조회수 49',\n",
       "  '본문링크': 'https://ai.cnu.ac.kr/ai/board/notice.do??mode=view&articleNo=519797&article.offset=0&articleLimit=10'},\n",
       " {'번호': '214',\n",
       "  '제목': '2024학년도 1학기 성적경고자 상담 및 지원 프로그램 안내',\n",
       "  '작성자': '조교 김현수',\n",
       "  '날짜': '24.07.23',\n",
       "  '조회수': '조회수 29',\n",
       "  '본문링크': 'https://ai.cnu.ac.kr/ai/board/notice.do??mode=view&articleNo=519635&article.offset=0&articleLimit=10'},\n",
       " {'번호': '213',\n",
       "  '제목': '2024학년도 제2학기 수강신청 기본 계획 안내',\n",
       "  '작성자': '조교 이희정',\n",
       "  '날짜': '24.07.22',\n",
       "  '조회수': '조회수 116',\n",
       "  '본문링크': 'https://ai.cnu.ac.kr/ai/board/notice.do??mode=view&articleNo=519612&article.offset=0&articleLimit=10'},\n",
       " {'번호': '212',\n",
       "  '제목': '2024학년도 제2학기 휴학 및 복학 신청 안내',\n",
       "  '작성자': '조교 김현수',\n",
       "  '날짜': '24.07.19',\n",
       "  '조회수': '조회수 46',\n",
       "  '본문링크': 'https://ai.cnu.ac.kr/ai/board/notice.do??mode=view&articleNo=519357&article.offset=0&articleLimit=10'}]"
      ]
     },
     "execution_count": 5,
     "metadata": {},
     "output_type": "execute_result"
    }
   ],
   "execution_count": 5
  },
  {
   "metadata": {
    "ExecuteTime": {
     "end_time": "2024-07-30T17:07:32.243303Z",
     "start_time": "2024-07-30T17:07:32.235342Z"
    }
   },
   "cell_type": "code",
   "source": [
    "def clean_data(notices):\n",
    "    notices.pop(0)\n",
    "    for notice in notices:\n",
    "        view = notice[\"조회수\"].replace(\"조회수\", \"\").strip()\n",
    "        notice[\"조회수\"] = view\n",
    "    return notices\n",
    "clean_data(notices)"
   ],
   "id": "eabeb608b0b61e81",
   "outputs": [
    {
     "data": {
      "text/plain": [
       "[{'번호': '공지',\n",
       "  '제목': '[★★★ 1학년 교과목 수강신청 안내 (본인이 직접 수강신청) ★★★]',\n",
       "  '작성자': '조교 이희정',\n",
       "  '날짜': '24.07.23',\n",
       "  '조회수': '154',\n",
       "  '본문링크': 'https://ai.cnu.ac.kr/ai/board/notice.do??mode=view&articleNo=519785&article.offset=0&articleLimit=10'},\n",
       " {'번호': '공지',\n",
       "  '제목': '2024 학생휴가 신청시 주의사항 안내',\n",
       "  '작성자': '조교 김현수',\n",
       "  '날짜': '24.06.11',\n",
       "  '조회수': '188',\n",
       "  '본문링크': 'https://ai.cnu.ac.kr/ai/board/notice.do??mode=view&articleNo=515554&article.offset=0&articleLimit=10'},\n",
       " {'번호': '공지',\n",
       "  '제목': '학과 GPU 서버 사용 신청 안내',\n",
       "  '작성자': '서무 담당 조교',\n",
       "  '날짜': '24.03.13',\n",
       "  '조회수': '483',\n",
       "  '본문링크': 'https://ai.cnu.ac.kr/ai/board/notice.do??mode=view&articleNo=508553&article.offset=0&articleLimit=10'},\n",
       " {'번호': '공지',\n",
       "  '제목': '★★ 인공지능개론 대체교과목 및 컴퓨터과학적사고 이수면제 안내',\n",
       "  '작성자': '조교 이희정',\n",
       "  '날짜': '24.01.19',\n",
       "  '조회수': '587',\n",
       "  '본문링크': 'https://ai.cnu.ac.kr/ai/board/notice.do??mode=view&articleNo=503557&article.offset=0&articleLimit=10'},\n",
       " {'번호': '공지',\n",
       "  '제목': '[중요] 컴퓨터프로그래밍1~3, 컴퓨터구조 교과목 학과별 운영으로 개설학과 이외 수강생 전공 불인정 안내',\n",
       "  '작성자': '조교 이희정',\n",
       "  '날짜': '23.01.30',\n",
       "  '조회수': '1136',\n",
       "  '본문링크': 'https://ai.cnu.ac.kr/ai/board/notice.do??mode=view&articleNo=319395&article.offset=0&articleLimit=10'},\n",
       " {'번호': '공지',\n",
       "  '제목': '충남대학교 백마인턴십 수강학생 전공학점 인정 등 안내',\n",
       "  '작성자': '조교 김현수',\n",
       "  '날짜': '23.01.03',\n",
       "  '조회수': '1319',\n",
       "  '본문링크': 'https://ai.cnu.ac.kr/ai/board/notice.do??mode=view&articleNo=317481&article.offset=0&articleLimit=10'},\n",
       " {'번호': '공지',\n",
       "  '제목': '[★★★ 졸업요건]  프로젝트교과목 필수 이수 안내',\n",
       "  '작성자': '조교 이희정',\n",
       "  '날짜': '22.01.27',\n",
       "  '조회수': '1587',\n",
       "  '본문링크': 'https://ai.cnu.ac.kr/ai/board/notice.do??mode=view&articleNo=287509&article.offset=0&articleLimit=10'},\n",
       " {'번호': '공지',\n",
       "  '제목': '2022학년도 교양영어 교육과정 개편 안내(2021학년도 이전 입학자 포함)',\n",
       "  '작성자': '조교 이희정',\n",
       "  '날짜': '21.12.30',\n",
       "  '조회수': '1130',\n",
       "  '본문링크': 'https://ai.cnu.ac.kr/ai/board/notice.do??mode=view&articleNo=285136&article.offset=0&articleLimit=10'},\n",
       " {'번호': '221',\n",
       "  '제목': '2024학년도 1학기 교내 장학생 추가 2차 선발 (문자 수신자 확인용)',\n",
       "  '작성자': '조교 김현수',\n",
       "  '날짜': '24.07.29',\n",
       "  '조회수': '96',\n",
       "  '본문링크': 'https://ai.cnu.ac.kr/ai/board/notice.do??mode=view&articleNo=520413&article.offset=0&articleLimit=10'},\n",
       " {'번호': '220',\n",
       "  '제목': '[3학년] 실무프로젝트랩3 교과목 수강 제한 안내',\n",
       "  '작성자': '조교 이희정',\n",
       "  '날짜': '24.07.29',\n",
       "  '조회수': '35',\n",
       "  '본문링크': 'https://ai.cnu.ac.kr/ai/board/notice.do??mode=view&articleNo=520389&article.offset=0&articleLimit=10'},\n",
       " {'번호': '219',\n",
       "  '제목': '2024학년도 제2학기 SW교양교과목 수강 안내',\n",
       "  '작성자': '조교 이희정',\n",
       "  '날짜': '24.07.25',\n",
       "  '조회수': '71',\n",
       "  '본문링크': 'https://ai.cnu.ac.kr/ai/board/notice.do??mode=view&articleNo=520125&article.offset=0&articleLimit=10'},\n",
       " {'번호': '218',\n",
       "  '제목': '2024학년도 제2학기 예비수강신청 계획 안내',\n",
       "  '작성자': '조교 이희정',\n",
       "  '날짜': '24.07.24',\n",
       "  '조회수': '85',\n",
       "  '본문링크': 'https://ai.cnu.ac.kr/ai/board/notice.do??mode=view&articleNo=519935&article.offset=0&articleLimit=10'},\n",
       " {'번호': '217',\n",
       "  '제목': '2024학년도 2학기 첨단분야 혁신융합대학사업(강원대주관, 인공지능학과 참여) 교류수학 안내',\n",
       "  '작성자': '조교 이희정',\n",
       "  '날짜': '24.07.23',\n",
       "  '조회수': '50',\n",
       "  '본문링크': 'https://ai.cnu.ac.kr/ai/board/notice.do??mode=view&articleNo=519846&article.offset=0&articleLimit=10'},\n",
       " {'번호': '216',\n",
       "  '제목': '[수강신청관련] 컴퓨터융합학부 개설 교과목 수강신청 유의사항 안내',\n",
       "  '작성자': '조교 이희정',\n",
       "  '날짜': '24.07.23',\n",
       "  '조회수': '58',\n",
       "  '본문링크': 'https://ai.cnu.ac.kr/ai/board/notice.do??mode=view&articleNo=519799&article.offset=0&articleLimit=10'},\n",
       " {'번호': '215',\n",
       "  '제목': '인공지능학과, 컴퓨터융합학부 합반 운영 교과목 안내',\n",
       "  '작성자': '조교 이희정',\n",
       "  '날짜': '24.07.23',\n",
       "  '조회수': '49',\n",
       "  '본문링크': 'https://ai.cnu.ac.kr/ai/board/notice.do??mode=view&articleNo=519797&article.offset=0&articleLimit=10'},\n",
       " {'번호': '214',\n",
       "  '제목': '2024학년도 1학기 성적경고자 상담 및 지원 프로그램 안내',\n",
       "  '작성자': '조교 김현수',\n",
       "  '날짜': '24.07.23',\n",
       "  '조회수': '29',\n",
       "  '본문링크': 'https://ai.cnu.ac.kr/ai/board/notice.do??mode=view&articleNo=519635&article.offset=0&articleLimit=10'},\n",
       " {'번호': '213',\n",
       "  '제목': '2024학년도 제2학기 수강신청 기본 계획 안내',\n",
       "  '작성자': '조교 이희정',\n",
       "  '날짜': '24.07.22',\n",
       "  '조회수': '116',\n",
       "  '본문링크': 'https://ai.cnu.ac.kr/ai/board/notice.do??mode=view&articleNo=519612&article.offset=0&articleLimit=10'},\n",
       " {'번호': '212',\n",
       "  '제목': '2024학년도 제2학기 휴학 및 복학 신청 안내',\n",
       "  '작성자': '조교 김현수',\n",
       "  '날짜': '24.07.19',\n",
       "  '조회수': '46',\n",
       "  '본문링크': 'https://ai.cnu.ac.kr/ai/board/notice.do??mode=view&articleNo=519357&article.offset=0&articleLimit=10'}]"
      ]
     },
     "execution_count": 6,
     "metadata": {},
     "output_type": "execute_result"
    }
   ],
   "execution_count": 6
  },
  {
   "metadata": {
    "ExecuteTime": {
     "end_time": "2024-07-30T16:37:59.507536Z",
     "start_time": "2024-07-30T16:37:59.504979Z"
    }
   },
   "cell_type": "code",
   "source": "",
   "id": "7b55b1d399228a9e",
   "outputs": [],
   "execution_count": 109
  },
  {
   "metadata": {},
   "cell_type": "code",
   "outputs": [],
   "execution_count": null,
   "source": "",
   "id": "2c80cc45c66e973d"
  }
 ],
 "metadata": {
  "kernelspec": {
   "display_name": "Python 3",
   "language": "python",
   "name": "python3"
  },
  "language_info": {
   "codemirror_mode": {
    "name": "ipython",
    "version": 2
   },
   "file_extension": ".py",
   "mimetype": "text/x-python",
   "name": "python",
   "nbconvert_exporter": "python",
   "pygments_lexer": "ipython2",
   "version": "2.7.6"
  }
 },
 "nbformat": 4,
 "nbformat_minor": 5
}
